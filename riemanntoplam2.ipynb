{
 "cells": [
  {
   "cell_type": "code",
   "execution_count": null,
   "id": "comprehensive-program",
   "metadata": {},
   "outputs": [],
   "source": [
    "def f(x):\n",
    "    return x**2\n",
    "import numpy as np\n",
    "def riemann_toplam(f,a,b,N,yontem):\n",
    "    dx = (b-a) / N\n",
    "    \n",
    "    x = np.linspace(a,b,N+1)\n",
    "    \n",
    "    if yontem == 'alt_riemann' :\n",
    "        x_alt = x[:-1]\n",
    "        return np.sum(f(x_alt)*dx)\n",
    "    elif yontem == 'ust_riemann' :\n",
    "        x_ust = x[1:]\n",
    "        return np.sum(f(x_ust)*dx)"
   ]
  },
  {
   "cell_type": "code",
   "execution_count": 10,
   "id": "latin-mistake",
   "metadata": {},
   "outputs": [
    {
     "data": {
      "text/plain": [
       "2.2800000000000007"
      ]
     },
     "execution_count": 10,
     "metadata": {},
     "output_type": "execute_result"
    }
   ],
   "source": [
    "riemann_toplam(f,0,2,10,'alt_riemann')"
   ]
  },
  {
   "cell_type": "code",
   "execution_count": 12,
   "id": "stuck-establishment",
   "metadata": {},
   "outputs": [
    {
     "data": {
      "text/plain": [
       "3.08"
      ]
     },
     "execution_count": 12,
     "metadata": {},
     "output_type": "execute_result"
    }
   ],
   "source": [
    "riemann_toplam(f,0,2,10,'ust_riemann')"
   ]
  },
  {
   "cell_type": "code",
   "execution_count": 13,
   "id": "parliamentary-background",
   "metadata": {},
   "outputs": [
    {
     "data": {
      "text/plain": [
       "2.6268000000000002"
      ]
     },
     "execution_count": 13,
     "metadata": {},
     "output_type": "execute_result"
    }
   ],
   "source": [
    "riemann_toplam(f,0,2,100,'alt_riemann')"
   ]
  },
  {
   "cell_type": "code",
   "execution_count": 14,
   "id": "expressed-explosion",
   "metadata": {},
   "outputs": [
    {
     "data": {
      "text/plain": [
       "2.7068000000000003"
      ]
     },
     "execution_count": 14,
     "metadata": {},
     "output_type": "execute_result"
    }
   ],
   "source": [
    "riemann_toplam(f,0,2,100,'ust_riemann')"
   ]
  },
  {
   "cell_type": "code",
   "execution_count": 15,
   "id": "greater-democrat",
   "metadata": {},
   "outputs": [
    {
     "data": {
      "text/plain": [
       "2.6626680000000005"
      ]
     },
     "execution_count": 15,
     "metadata": {},
     "output_type": "execute_result"
    }
   ],
   "source": [
    "riemann_toplam(f,0,2,1000,'alt_riemann')"
   ]
  },
  {
   "cell_type": "code",
   "execution_count": 16,
   "id": "handed-moscow",
   "metadata": {},
   "outputs": [
    {
     "data": {
      "text/plain": [
       "2.670668"
      ]
     },
     "execution_count": 16,
     "metadata": {},
     "output_type": "execute_result"
    }
   ],
   "source": [
    "riemann_toplam(f,0,2,1000,'ust_riemann')"
   ]
  },
  {
   "cell_type": "code",
   "execution_count": 17,
   "id": "cubic-disorder",
   "metadata": {},
   "outputs": [
    {
     "data": {
      "text/plain": [
       "2.66626668"
      ]
     },
     "execution_count": 17,
     "metadata": {},
     "output_type": "execute_result"
    }
   ],
   "source": [
    "riemann_toplam(f,0,2,10000,'alt_riemann')"
   ]
  },
  {
   "cell_type": "code",
   "execution_count": 18,
   "id": "editorial-clause",
   "metadata": {},
   "outputs": [
    {
     "data": {
      "text/plain": [
       "2.6670666800000005"
      ]
     },
     "execution_count": 18,
     "metadata": {},
     "output_type": "execute_result"
    }
   ],
   "source": [
    "riemann_toplam(f,0,2,10000,'ust_riemann')"
   ]
  },
  {
   "cell_type": "code",
   "execution_count": null,
   "id": "recent-cookie",
   "metadata": {},
   "outputs": [],
   "source": []
  }
 ],
 "metadata": {
  "kernelspec": {
   "display_name": "Python 3",
   "language": "python",
   "name": "python3"
  },
  "language_info": {
   "codemirror_mode": {
    "name": "ipython",
    "version": 3
   },
   "file_extension": ".py",
   "mimetype": "text/x-python",
   "name": "python",
   "nbconvert_exporter": "python",
   "pygments_lexer": "ipython3",
   "version": "3.7.8"
  }
 },
 "nbformat": 4,
 "nbformat_minor": 5
}
